{
 "cells": [
  {
   "cell_type": "code",
   "execution_count": 1,
   "id": "4a58b47d",
   "metadata": {},
   "outputs": [],
   "source": [
    "import requests\n",
    "from bs4 import BeautifulSoup as bs\n",
    "from urllib.request import urlopen"
   ]
  },
  {
   "cell_type": "code",
   "execution_count": 2,
   "id": "8e076d3a",
   "metadata": {},
   "outputs": [
    {
     "data": {
      "text/plain": [
       "'https://books.toscrape.com'"
      ]
     },
     "execution_count": 2,
     "metadata": {},
     "output_type": "execute_result"
    }
   ],
   "source": [
    "books_url = \"https://books.toscrape.com\" \n",
    "books_url\n",
    "# + \"/catalogue/soumission_998/\""
   ]
  },
  {
   "cell_type": "code",
   "execution_count": 3,
   "id": "f25646b6",
   "metadata": {},
   "outputs": [
    {
     "data": {
      "text/plain": [
       "<http.client.HTTPResponse at 0x294df597910>"
      ]
     },
     "execution_count": 3,
     "metadata": {},
     "output_type": "execute_result"
    }
   ],
   "source": [
    "url_client = urlopen(books_url)\n",
    "url_client"
   ]
  },
  {
   "cell_type": "code",
   "execution_count": 4,
   "id": "49c7609c",
   "metadata": {},
   "outputs": [],
   "source": [
    "books_page = url_client.read()\n",
    "books_html = bs(books_page, \"html.parser\")"
   ]
  },
  {
   "cell_type": "code",
   "execution_count": 5,
   "id": "eb8fbac9",
   "metadata": {},
   "outputs": [],
   "source": [
    "main_div = books_html.findAll(\"li\", {\"class\": \"col-xs-6 col-sm-4 col-md-3 col-lg-3\"})"
   ]
  },
  {
   "cell_type": "code",
   "execution_count": 6,
   "id": "6d57e1bf",
   "metadata": {},
   "outputs": [
    {
     "data": {
      "text/plain": [
       "20"
      ]
     },
     "execution_count": 6,
     "metadata": {},
     "output_type": "execute_result"
    }
   ],
   "source": [
    "len(main_div)"
   ]
  },
  {
   "cell_type": "code",
   "execution_count": 7,
   "id": "cc09392a",
   "metadata": {},
   "outputs": [
    {
     "data": {
      "text/plain": [
       "'catalogue/a-light-in-the-attic_1000/index.html'"
      ]
     },
     "execution_count": 7,
     "metadata": {},
     "output_type": "execute_result"
    }
   ],
   "source": [
    "main_div[0].a['href']\n"
   ]
  },
  {
   "cell_type": "code",
   "execution_count": 8,
   "id": "230dc3e3",
   "metadata": {},
   "outputs": [
    {
     "data": {
      "text/plain": [
       "'https://books.toscrape.com/catalogue/a-light-in-the-attic_1000/index.html'"
      ]
     },
     "execution_count": 8,
     "metadata": {},
     "output_type": "execute_result"
    }
   ],
   "source": [
    "\"https://books.toscrape.com/\" + main_div[0].a['href'] "
   ]
  },
  {
   "cell_type": "code",
   "execution_count": 9,
   "id": "73217bdf",
   "metadata": {},
   "outputs": [],
   "source": [
    "product_link = \"https://books.toscrape.com/\" + main_div[1].a['href'] \n",
    "product_req = requests.get(product_link)"
   ]
  },
  {
   "cell_type": "code",
   "execution_count": 10,
   "id": "bad453e7",
   "metadata": {},
   "outputs": [],
   "source": [
    "product_html = bs(product_req.text, \"html.parser\")"
   ]
  },
  {
   "cell_type": "code",
   "execution_count": 11,
   "id": "53739811",
   "metadata": {},
   "outputs": [
    {
     "data": {
      "text/plain": [
       "<div class=\"col-sm-6 product_main\">\n",
       "<h1>Tipping the Velvet</h1>\n",
       "<p class=\"price_color\">Â£53.74</p>\n",
       "<p class=\"instock availability\">\n",
       "<i class=\"icon-ok\"></i>\n",
       "    \n",
       "        In stock (20 available)\n",
       "    \n",
       "</p>\n",
       "<p class=\"star-rating One\">\n",
       "<i class=\"icon-star\"></i>\n",
       "<i class=\"icon-star\"></i>\n",
       "<i class=\"icon-star\"></i>\n",
       "<i class=\"icon-star\"></i>\n",
       "<i class=\"icon-star\"></i>\n",
       "<!-- <small><a href=\"/catalogue/tipping-the-velvet_999/reviews/\">\n",
       "        \n",
       "                \n",
       "                    0 customer reviews\n",
       "                \n",
       "        </a></small>\n",
       "         --> \n",
       "\n",
       "\n",
       "<!-- \n",
       "    <a id=\"write_review\" href=\"/catalogue/tipping-the-velvet_999/reviews/add/#addreview\" class=\"btn btn-success btn-sm\">\n",
       "        Write a review\n",
       "    </a>\n",
       "\n",
       " --></p>\n",
       "<hr/>\n",
       "<div class=\"alert alert-warning\" role=\"alert\"><strong>Warning!</strong> This is a demo website for web scraping purposes. Prices and ratings here were randomly assigned and have no real meaning.</div>\n",
       "</div>"
      ]
     },
     "execution_count": 11,
     "metadata": {},
     "output_type": "execute_result"
    }
   ],
   "source": [
    "product_detail = product_html.find(\"div\", {\"class\": \"col-sm-6 product_main\"})\n",
    "product_detail"
   ]
  },
  {
   "cell_type": "code",
   "execution_count": 12,
   "id": "96064590",
   "metadata": {},
   "outputs": [
    {
     "data": {
      "text/plain": [
       "'Tipping the Velvet'"
      ]
     },
     "execution_count": 12,
     "metadata": {},
     "output_type": "execute_result"
    }
   ],
   "source": [
    "title = product_detail.h1.text\n",
    "title"
   ]
  },
  {
   "cell_type": "code",
   "execution_count": 13,
   "id": "612453df",
   "metadata": {},
   "outputs": [
    {
     "data": {
      "text/plain": [
       "1"
      ]
     },
     "execution_count": 13,
     "metadata": {},
     "output_type": "execute_result"
    }
   ],
   "source": [
    "stars = product_detail.find(\"p\", {\"class\": \"star-rating\"})\n",
    "star_class = stars.get(\"class\")\n",
    "#  ['star-rating', 'Three'])\n",
    "star_text = star_class[1] if len(star_class) > 1 else None\n",
    "\n",
    "star_mapping = {\n",
    "    \"One\": 1,\n",
    "    \"Two\": 2,\n",
    "    \"Three\": 3,\n",
    "    \"Four\": 4,\n",
    "    \"Five\": 5\n",
    "}\n",
    "star_number = star_mapping.get(star_text, 0)\n",
    "star_number"
   ]
  },
  {
   "cell_type": "code",
   "execution_count": 14,
   "id": "b87a4835",
   "metadata": {},
   "outputs": [
    {
     "data": {
      "text/plain": [
       "'In stock (20 available)'"
      ]
     },
     "execution_count": 14,
     "metadata": {},
     "output_type": "execute_result"
    }
   ],
   "source": [
    "availability = product_detail.find(\"p\" , {\"class\": \"instock availability\"}).text\n",
    "availability = availability.replace('\\n', '').strip()\n",
    "availability\n"
   ]
  },
  {
   "cell_type": "code",
   "execution_count": 15,
   "id": "be460946",
   "metadata": {},
   "outputs": [
    {
     "data": {
      "text/plain": [
       "'£53.74'"
      ]
     },
     "execution_count": 15,
     "metadata": {},
     "output_type": "execute_result"
    }
   ],
   "source": [
    "price = product_detail.find(\"p\", {\"class\": \"price_color\"}).text\n",
    "price = price.replace(\"Â\", \"\")\n",
    "price"
   ]
  },
  {
   "cell_type": "code",
   "execution_count": 16,
   "id": "ffc456f7",
   "metadata": {},
   "outputs": [
    {
     "data": {
      "text/plain": [
       "'\"Erotic and absorbing...Written with starling power.\"--\"The New York Times Book Review \" Nan King, an oyster girl, is captivated by the music hall phenomenon Kitty Butler, a male impersonator extraordinaire treading the boards in Canterbury. Through a friend at the box office, Nan manages to visit all her shows and finally meet her heroine. Soon after, she becomes Kitty\\'s \"Erotic and absorbing...Written with starling power.\"--\"The New York Times Book Review \" Nan King, an oyster girl, is captivated by the music hall phenomenon Kitty Butler, a male impersonator extraordinaire treading the boards in Canterbury. Through a friend at the box office, Nan manages to visit all her shows and finally meet her heroine. Soon after, she becomes Kitty\\'s dresser and the two head for the bright lights of Leicester Square where they begin a glittering career as music-hall stars in an all-singing and dancing double act. At the same time, behind closed doors, they admit their attraction to each other and their affair begins. ...more'"
      ]
     },
     "execution_count": 16,
     "metadata": {},
     "output_type": "execute_result"
    }
   ],
   "source": [
    "article = product_html.find(\"article\", {\"class\": \"product_page\"})\n",
    "# <p> tags with no class attribute\n",
    "p_no_class = [p for p in article.find_all(\"p\") if not p.has_attr(\"class\")]\n",
    "p_no_class[0].text"
   ]
  },
  {
   "cell_type": "code",
   "execution_count": 17,
   "id": "ae4b9664",
   "metadata": {},
   "outputs": [],
   "source": [
    "import csv\n",
    "data_list = []\n",
    "\n",
    "for book in main_div:\n",
    "    \n",
    "    book_link = books_url + \"/\" + book.a['href']\n",
    "    product_req = requests.get(book_link)\n",
    "    product_html = bs(product_req.text, \"html.parser\")\n",
    "    product_detail = product_html.find(\"div\", {\"class\": \"col-sm-6 product_main\"})\n",
    "    \n",
    "    \n",
    "    title = product_detail.h1.text.strip()\n",
    "    price = product_detail.find(\"p\", {\"class\": \"price_color\"}).text.replace(\"Â\", \"\").strip()\n",
    "    stars = product_detail.find(\"p\", {\"class\": \"star-rating\"})\n",
    "    star_class = stars.get(\"class\")\n",
    "    star_text = star_class[1] if len(star_class) > 1 else None\n",
    "    star_mapping = {\"One\": 1, \"Two\": 2, \"Three\": 3, \"Four\": 4, \"Five\": 5}\n",
    "    star_number = star_mapping.get(star_text, 0)\n",
    "    availability = product_detail.find(\"p\", {\"class\": \"instock availability\"}).text.replace('\\n', '').strip()\n",
    "    article = product_html.find(\"article\", {\"class\": \"product_page\"})\n",
    "    p_no_class = [p for p in article.find_all(\"p\") if not p.has_attr(\"class\")]\n",
    "    description = p_no_class[0].text.strip() if p_no_class else \"\"\n",
    "    \n",
    "    data_list.append({\n",
    "        \"title\": title,\n",
    "        \"price\": price,\n",
    "        \"stars\": star_number,\n",
    "        \"availability\": availability,\n",
    "        \"description\": description,\n",
    "        \"product_link\": book_link\n",
    "    })\n",
    "\n",
    "\n",
    "fieldnames = [\"title\", \"price\", \"stars\", \"availability\", \"description\", \"product_link\"]\n",
    "\n",
    "with open(\"book_details.csv\", mode=\"w\", encoding=\"utf-8\", newline=\"\") as file:\n",
    "    writer = csv.DictWriter(file, fieldnames=fieldnames)\n",
    "    writer.writeheader()\n",
    "    for book in data_list:\n",
    "        writer.writerow(book)"
   ]
  },
  {
   "cell_type": "code",
   "execution_count": 18,
   "id": "6a391d90",
   "metadata": {},
   "outputs": [
    {
     "data": {
      "text/html": [
       "<div>\n",
       "<style scoped>\n",
       "    .dataframe tbody tr th:only-of-type {\n",
       "        vertical-align: middle;\n",
       "    }\n",
       "\n",
       "    .dataframe tbody tr th {\n",
       "        vertical-align: top;\n",
       "    }\n",
       "\n",
       "    .dataframe thead th {\n",
       "        text-align: right;\n",
       "    }\n",
       "</style>\n",
       "<table border=\"1\" class=\"dataframe\">\n",
       "  <thead>\n",
       "    <tr style=\"text-align: right;\">\n",
       "      <th></th>\n",
       "      <th>title</th>\n",
       "      <th>price</th>\n",
       "      <th>stars</th>\n",
       "      <th>availability</th>\n",
       "      <th>description</th>\n",
       "      <th>product_link</th>\n",
       "    </tr>\n",
       "  </thead>\n",
       "  <tbody>\n",
       "    <tr>\n",
       "      <th>0</th>\n",
       "      <td>A Light in the Attic</td>\n",
       "      <td>£51.77</td>\n",
       "      <td>3</td>\n",
       "      <td>In stock (22 available)</td>\n",
       "      <td>It's hard to imagine a world without A Light i...</td>\n",
       "      <td>https://books.toscrape.com/catalogue/a-light-i...</td>\n",
       "    </tr>\n",
       "    <tr>\n",
       "      <th>1</th>\n",
       "      <td>Tipping the Velvet</td>\n",
       "      <td>£53.74</td>\n",
       "      <td>1</td>\n",
       "      <td>In stock (20 available)</td>\n",
       "      <td>\"Erotic and absorbing...Written with starling ...</td>\n",
       "      <td>https://books.toscrape.com/catalogue/tipping-t...</td>\n",
       "    </tr>\n",
       "    <tr>\n",
       "      <th>2</th>\n",
       "      <td>Soumission</td>\n",
       "      <td>£50.10</td>\n",
       "      <td>1</td>\n",
       "      <td>In stock (20 available)</td>\n",
       "      <td>Dans une France assez proche de la nÃ´tre, un ...</td>\n",
       "      <td>https://books.toscrape.com/catalogue/soumissio...</td>\n",
       "    </tr>\n",
       "    <tr>\n",
       "      <th>3</th>\n",
       "      <td>Sharp Objects</td>\n",
       "      <td>£47.82</td>\n",
       "      <td>4</td>\n",
       "      <td>In stock (20 available)</td>\n",
       "      <td>WICKED above her hipbone, GIRL across her hear...</td>\n",
       "      <td>https://books.toscrape.com/catalogue/sharp-obj...</td>\n",
       "    </tr>\n",
       "    <tr>\n",
       "      <th>4</th>\n",
       "      <td>Sapiens: A Brief History of Humankind</td>\n",
       "      <td>£54.23</td>\n",
       "      <td>5</td>\n",
       "      <td>In stock (20 available)</td>\n",
       "      <td>From a renowned historian comes a groundbreaki...</td>\n",
       "      <td>https://books.toscrape.com/catalogue/sapiens-a...</td>\n",
       "    </tr>\n",
       "    <tr>\n",
       "      <th>5</th>\n",
       "      <td>The Requiem Red</td>\n",
       "      <td>£22.65</td>\n",
       "      <td>1</td>\n",
       "      <td>In stock (19 available)</td>\n",
       "      <td>Patient Twenty-nine.A monster roams the halls ...</td>\n",
       "      <td>https://books.toscrape.com/catalogue/the-requi...</td>\n",
       "    </tr>\n",
       "    <tr>\n",
       "      <th>6</th>\n",
       "      <td>The Dirty Little Secrets of Getting Your Dream...</td>\n",
       "      <td>£33.34</td>\n",
       "      <td>4</td>\n",
       "      <td>In stock (19 available)</td>\n",
       "      <td>Drawing on his extensive experience evaluating...</td>\n",
       "      <td>https://books.toscrape.com/catalogue/the-dirty...</td>\n",
       "    </tr>\n",
       "    <tr>\n",
       "      <th>7</th>\n",
       "      <td>The Coming Woman: A Novel Based on the Life of...</td>\n",
       "      <td>£17.93</td>\n",
       "      <td>3</td>\n",
       "      <td>In stock (19 available)</td>\n",
       "      <td>\"If you have a heart, if you have a soul, Kare...</td>\n",
       "      <td>https://books.toscrape.com/catalogue/the-comin...</td>\n",
       "    </tr>\n",
       "    <tr>\n",
       "      <th>8</th>\n",
       "      <td>The Boys in the Boat: Nine Americans and Their...</td>\n",
       "      <td>£22.60</td>\n",
       "      <td>4</td>\n",
       "      <td>In stock (19 available)</td>\n",
       "      <td>For readers of Laura Hillenbrand's Seabiscuit ...</td>\n",
       "      <td>https://books.toscrape.com/catalogue/the-boys-...</td>\n",
       "    </tr>\n",
       "    <tr>\n",
       "      <th>9</th>\n",
       "      <td>The Black Maria</td>\n",
       "      <td>£52.15</td>\n",
       "      <td>1</td>\n",
       "      <td>In stock (19 available)</td>\n",
       "      <td>Praise for Aracelis Girmay:\"[Girmay's] every l...</td>\n",
       "      <td>https://books.toscrape.com/catalogue/the-black...</td>\n",
       "    </tr>\n",
       "  </tbody>\n",
       "</table>\n",
       "</div>"
      ],
      "text/plain": [
       "                                               title   price  stars  \\\n",
       "0                               A Light in the Attic  £51.77      3   \n",
       "1                                 Tipping the Velvet  £53.74      1   \n",
       "2                                         Soumission  £50.10      1   \n",
       "3                                      Sharp Objects  £47.82      4   \n",
       "4              Sapiens: A Brief History of Humankind  £54.23      5   \n",
       "5                                    The Requiem Red  £22.65      1   \n",
       "6  The Dirty Little Secrets of Getting Your Dream...  £33.34      4   \n",
       "7  The Coming Woman: A Novel Based on the Life of...  £17.93      3   \n",
       "8  The Boys in the Boat: Nine Americans and Their...  £22.60      4   \n",
       "9                                    The Black Maria  £52.15      1   \n",
       "\n",
       "              availability                                        description  \\\n",
       "0  In stock (22 available)  It's hard to imagine a world without A Light i...   \n",
       "1  In stock (20 available)  \"Erotic and absorbing...Written with starling ...   \n",
       "2  In stock (20 available)  Dans une France assez proche de la nÃ´tre, un ...   \n",
       "3  In stock (20 available)  WICKED above her hipbone, GIRL across her hear...   \n",
       "4  In stock (20 available)  From a renowned historian comes a groundbreaki...   \n",
       "5  In stock (19 available)  Patient Twenty-nine.A monster roams the halls ...   \n",
       "6  In stock (19 available)  Drawing on his extensive experience evaluating...   \n",
       "7  In stock (19 available)  \"If you have a heart, if you have a soul, Kare...   \n",
       "8  In stock (19 available)  For readers of Laura Hillenbrand's Seabiscuit ...   \n",
       "9  In stock (19 available)  Praise for Aracelis Girmay:\"[Girmay's] every l...   \n",
       "\n",
       "                                        product_link  \n",
       "0  https://books.toscrape.com/catalogue/a-light-i...  \n",
       "1  https://books.toscrape.com/catalogue/tipping-t...  \n",
       "2  https://books.toscrape.com/catalogue/soumissio...  \n",
       "3  https://books.toscrape.com/catalogue/sharp-obj...  \n",
       "4  https://books.toscrape.com/catalogue/sapiens-a...  \n",
       "5  https://books.toscrape.com/catalogue/the-requi...  \n",
       "6  https://books.toscrape.com/catalogue/the-dirty...  \n",
       "7  https://books.toscrape.com/catalogue/the-comin...  \n",
       "8  https://books.toscrape.com/catalogue/the-boys-...  \n",
       "9  https://books.toscrape.com/catalogue/the-black...  "
      ]
     },
     "execution_count": 18,
     "metadata": {},
     "output_type": "execute_result"
    }
   ],
   "source": [
    "import pandas as pd\n",
    "df = pd.read_csv(\"book_details.csv\")\n",
    "df.head(10)"
   ]
  },
  {
   "cell_type": "code",
   "execution_count": null,
   "id": "5c7fb28e",
   "metadata": {},
   "outputs": [],
   "source": [
    "import json\n",
    "with open(\"book_details.json\", \"w\", encoding=\"utf-8\") as f:\n",
    "    json.dump(data_list, f, ensure_ascii=False, indent=2)"
   ]
  }
 ],
 "metadata": {
  "kernelspec": {
   "display_name": "base",
   "language": "python",
   "name": "python3"
  },
  "language_info": {
   "codemirror_mode": {
    "name": "ipython",
    "version": 3
   },
   "file_extension": ".py",
   "mimetype": "text/x-python",
   "name": "python",
   "nbconvert_exporter": "python",
   "pygments_lexer": "ipython3",
   "version": "3.12.3"
  }
 },
 "nbformat": 4,
 "nbformat_minor": 5
}
